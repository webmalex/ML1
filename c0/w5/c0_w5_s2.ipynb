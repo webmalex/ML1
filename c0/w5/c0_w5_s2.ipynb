{
 "cells": [
  {
   "cell_type": "markdown",
   "metadata": {},
   "source": [
    "# Задание: Градиентный бустинг над решающими деревьями"
   ]
  },
  {
   "cell_type": "markdown",
   "metadata": {},
   "source": [
    "https://www.coursera.org/learn/vvedenie-mashinnoe-obuchenie/programming/uDU31/gradiientnyi-bustingh-nad-rieshaiushchimi-dieriev-iami"
   ]
  },
  {
   "cell_type": "markdown",
   "metadata": {},
   "source": [
    "1 Загрузите выборку из файла gbm-data.csv с помощью pandas и преобразуйте ее в массив numpy (параметр values у датафрейма). В первой колонке файла с данными записано, была или нет реакция. Все остальные колонки (d1 - d1776) содержат различные характеристики молекулы, такие как размер, форма и т.д. Разбейте выборку на обучающую и тестовую, используя функцию train_test_split с параметрами test_size = 0.8 и random_state = 241."
   ]
  },
  {
   "cell_type": "raw",
   "metadata": {},
   "source": [
    "https://d3c33hcgiwev3.cloudfront.net/_75fb7a1b6f3431b6217cdbcba2fd30b9_gbm-data.csv"
   ]
  },
  {
   "cell_type": "code",
   "execution_count": null,
   "metadata": {
    "collapsed": true
   },
   "outputs": [],
   "source": [
    "import numpy as np\n",
    "import matplotlib.pyplot as plt\n",
    "from math import exp\n",
    "from sklearn.metrics import log_loss\n",
    "from pandas import read_csv\n",
    "import sys\n",
    "sys.path.append('../..')\n",
    "from lib import *\n",
    "from sklearn.ensemble import GradientBoostingClassifier as GBC"
   ]
  },
  {
   "cell_type": "code",
   "execution_count": null,
   "metadata": {
    "collapsed": true
   },
   "outputs": [],
   "source": [
    "xd = read_csv('gbm-data.csv')"
   ]
  },
  {
   "cell_type": "code",
   "execution_count": null,
   "metadata": {
    "collapsed": false
   },
   "outputs": [],
   "source": [
    "xn = xd.values"
   ]
  },
  {
   "cell_type": "code",
   "execution_count": null,
   "metadata": {
    "collapsed": false,
    "scrolled": true
   },
   "outputs": [],
   "source": [
    "xd"
   ]
  },
  {
   "cell_type": "code",
   "execution_count": null,
   "metadata": {
    "collapsed": false
   },
   "outputs": [],
   "source": [
    "from sklearn.cross_validation import train_test_split as split\n",
    "xl, xt = split(xn, test_size=0.8, random_state=241)"
   ]
  },
  {
   "cell_type": "code",
   "execution_count": null,
   "metadata": {
    "collapsed": false,
    "scrolled": true
   },
   "outputs": [],
   "source": [
    "xlx, xly = xl[:,1:], xl[:,0]\n",
    "xtx, xty = xt[:,1:], xt[:,0]\n",
    "xl.size, xt.size"
   ]
  },
  {
   "cell_type": "markdown",
   "metadata": {},
   "source": [
    "2 Обучите GradientBoostingClassifier с параметрами n_estimators=250, verbose=True, random_state=241 и для каждого значения learning_rate из списка [1, 0.5, 0.3, 0.2, 0.1] проделайте следующее:"
   ]
  },
  {
   "cell_type": "markdown",
   "metadata": {},
   "source": [
    "2.1 Используйте метод staged_decision_function для предсказания качества на обучающей и тестовой выборке на каждой итерации."
   ]
  },
  {
   "cell_type": "markdown",
   "metadata": {},
   "source": [
    "2.2 Преобразуйте полученное предсказание с помощью сигмоидной функции по формуле 1 / (1 + e^{−y_pred}), где y_pred — предсказаное значение."
   ]
  },
  {
   "cell_type": "markdown",
   "metadata": {},
   "source": [
    "2.3 Вычислите и постройте график значений log-loss (которую можно посчитать с помощью функции sklearn.metrics.log_loss) на обучающей и тестовой выборках, а также найдите минимальное значение метрики и номер итерации, на которой оно достигается."
   ]
  },
  {
   "cell_type": "code",
   "execution_count": 172,
   "metadata": {
    "collapsed": false,
    "scrolled": true
   },
   "outputs": [],
   "source": [
    "gc = lambda r: GBC(n_estimators=250, verbose=True, random_state=241, learning_rate=r).fit(xlx, xly)\n",
    "sig = lambda y: 1/(1+exp(-y))\n",
    "def p(clf):\n",
    "    p = np.zeros((250,), dtype=np.float64)\n",
    "    # pp = np.copy(p)\n",
    "    for i, yp in enumerate(clf.staged_decision_function(xtx)):\n",
    "        ys = np.array(list(map(sig, yp)))\n",
    "    #     pp[i] = clf.loss_(xty, yp)\n",
    "    #     pp[i] = log_loss(xty, yp)\n",
    "        p[i] = log_loss(xty, ys)\n",
    "    return p\n",
    "def plot(p):\n",
    "    plt.plot(p)\n",
    "    # plt.plot(pp)\n",
    "    ym = p.min()\n",
    "    xm = p.argmin()\n",
    "    plt.axvline(xm, c='k', ls='--', label='xm')\n",
    "    plt.axhline(ym, c='r', ls='--', label=ym)\n",
    "    plt.legend(['test', xm, ym])\n",
    "    return xm, ym\n",
    "w = lambda r: plot(p(gc(r)))"
   ]
  },
  {
   "cell_type": "code",
   "execution_count": 173,
   "metadata": {
    "collapsed": false
   },
   "outputs": [
    {
     "name": "stdout",
     "output_type": "stream",
     "text": [
      "      Iter       Train Loss   Remaining Time \n",
      "         1           1.3199           27.95s\n",
      "         2           1.2645           28.18s\n",
      "         3           1.2170           27.31s\n",
      "         4           1.1775           26.72s\n",
      "         5           1.1404           26.04s\n",
      "         6           1.1106           25.83s\n",
      "         7           1.0844           25.51s\n",
      "         8           1.0617           32.91s\n",
      "         9           1.0411           34.91s\n",
      "        10           1.0223           37.85s\n",
      "        20           0.8864           28.09s\n",
      "        30           0.7844           26.66s\n",
      "        40           0.7176           23.11s\n",
      "        50           0.6590           20.79s\n",
      "        60           0.6120           18.38s\n",
      "        70           0.5599           16.59s\n",
      "        80           0.5242           15.06s\n",
      "        90           0.4829           13.70s\n",
      "       100           0.4473           12.47s\n",
      "       200           0.2379            3.81s\n",
      "(51, 0.52646461382579068)\n"
     ]
    },
    {
     "data": {
      "image/png": "[encoded data removed]",
      "text/plain": [
       "<matplotlib.figure.Figure at 0x12a0862e8>"
      ]
     },
     "metadata": {},
     "output_type": "display_data"
    }
   ],
   "source": [
    "print(w(0.1))"
   ]
  },
  {
   "cell_type": "markdown",
   "metadata": {},
   "source": [
    "3 Как можно охарактеризовать график качества на тестовой выборке, начиная с некоторой итерации: переобучение (overfitting) или недообучение (underfitting)? В ответе укажите одно из слов overfitting либо underfitting."
   ]
  },
  {
   "cell_type": "code",
   "execution_count": null,
   "metadata": {
    "collapsed": false
   },
   "outputs": [],
   "source": [
    "pf('c0_w5_s2_1', 'underfitting|overfitting')"
   ]
  },
  {
   "cell_type": "markdown",
   "metadata": {},
   "source": [
    "4 Приведите минимальное значение log-loss и номер итерации, на котором оно достигается, при learning_rate = 0.2."
   ]
  },
  {
   "cell_type": "code",
   "execution_count": 174,
   "metadata": {
    "collapsed": false
   },
   "outputs": [
    {
     "name": "stdout",
     "output_type": "stream",
     "text": [
      "      Iter       Train Loss   Remaining Time \n",
      "         1           1.2613           14.55s\n",
      "         2           1.1715           18.18s\n",
      "         3           1.1009           21.75s\n",
      "         4           1.0529           21.62s\n",
      "         5           1.0130           21.82s\n",
      "         6           0.9740           22.52s\n",
      "         7           0.9475           22.76s\n",
      "         8           0.9197           22.54s\n",
      "         9           0.8979           22.30s\n",
      "        10           0.8730           22.11s\n",
      "        20           0.7207           17.33s\n",
      "        30           0.6055           15.17s\n",
      "        40           0.5244           13.90s\n",
      "        50           0.4501           12.91s\n",
      "        60           0.3908           12.19s\n",
      "        70           0.3372           11.52s\n",
      "        80           0.3009           10.85s\n",
      "        90           0.2603           10.56s\n",
      "       100           0.2327            9.78s\n",
      "       200           0.0835            4.19s\n"
     ]
    },
    {
     "data": {
      "image/png": "[encoded data removed]",
      "text/plain": [
       "<matplotlib.figure.Figure at 0x12a3e5978>"
      ]
     },
     "metadata": {},
     "output_type": "display_data"
    }
   ],
   "source": [
    "i, m = w(0.2)"
   ]
  },
  {
   "cell_type": "code",
   "execution_count": null,
   "metadata": {
    "collapsed": false
   },
   "outputs": [],
   "source": [
    "pf('c0_w5_s2_2', pp([round(m, 2), i]))"
   ]
  },
  {
   "cell_type": "markdown",
   "metadata": {},
   "source": [
    "5 На этих же данных обучите RandomForestClassifier с количеством деревьев, равным количеству итераций, на котором достигается наилучшее качество у градиентного бустинга из предыдущего пункта, c random_state=241 и остальными параметрами по умолчанию. Какое значение log-loss на тесте получается у этого случайного леса? (Не забывайте, что предсказания нужно получать с помощью функции predict_proba)"
   ]
  },
  {
   "cell_type": "code",
   "execution_count": null,
   "metadata": {
    "collapsed": false
   },
   "outputs": [],
   "source": [
    "from sklearn.ensemble import RandomForestClassifier as RFC\n",
    "clf = RFC(n_estimators=i, random_state=241).fit(xlx, xly)"
   ]
  },
  {
   "cell_type": "code",
   "execution_count": null,
   "metadata": {
    "collapsed": false
   },
   "outputs": [],
   "source": [
    "# y = clf.predict_log_proba(xtx)\n",
    "pf('c0_w5_s2_3', round(log_loss(xty, clf.predict_proba(xtx)[:, 1]), 2))"
   ]
  }
 ],
 "metadata": {
  "kernelspec": {
   "display_name": "Python 3",
   "language": "python",
   "name": "python3"
  },
  "language_info": {
   "codemirror_mode": {
    "name": "ipython",
    "version": 3
   },
   "file_extension": ".py",
   "mimetype": "text/x-python",
   "name": "python",
   "nbconvert_exporter": "python",
   "pygments_lexer": "ipython3",
   "version": "3.5.1"
  }
 },
 "nbformat": 4,
 "nbformat_minor": 0
}
