{
 "cells": [
  {
   "cell_type": "markdown",
   "metadata": {},
   "source": [
    "Задание: Линейная регрессия: прогноз оклада по описанию вакансии"
   ]
  },
  {
   "cell_type": "code",
   "execution_count": 101,
   "metadata": {},
   "outputs": [],
   "source": [
    "# 1 Загрузите данные об описаниях вакансий и соответствующих годовых зарплатах из файла salary-train.csv.\n",
    "from pandas import read_csv\n",
    "x = read_csv('c0/w4/salary-train.csv')"
   ]
  },
  {
   "cell_type": "code",
   "execution_count": 102,
   "metadata": {},
   "outputs": [
    {
     "name": "stdout",
     "output_type": "stream",
     "text": [
      "0    International Sales Manager London ****k  ****...\nName: FullDescription, dtype: object \n 0    international sales manager london     k      ...\nName: FullDescription, dtype: object\n"
     ]
    }
   ],
   "source": [
    "# 2.1 Приведите тексты к нижнему регистру (text.lower()).\n",
    "# 2.2 Замените все, кроме букв и цифр, на пробелы — это облегчит дальнейшее разделение текста на слова.\n",
    "#  Для такой замены в строке text подходит следующий вызов: re.sub('[^a-zA-Z0-9]', ' ', text). \n",
    "#  Также можно воспользоваться методом replace у DataFrame, чтобы сразу преобразовать все тексты:\n",
    "cf, cl, cc, cs = 'FullDescription', 'LocationNormalized', 'ContractTime', 'SalaryNormalized'\n",
    "xf = x[cf].str.lower().replace('[^a-zA-Z0-9]', ' ', regex=True)\n",
    "print(x[cf][:1], '\\n', xf[:1])"
   ]
  },
  {
   "cell_type": "code",
   "execution_count": 109,
   "metadata": {},
   "outputs": [
    {
     "name": "stdout",
     "output_type": "stream",
     "text": [
      "<class 'scipy.sparse.csr.csr_matrix'>\n"
     ]
    },
    {
     "data": {
      "text/plain": [
       "<60000x22861 sparse matrix of type '<class 'numpy.float64'>'\n\twith 8365759 stored elements in Compressed Sparse Row format>"
      ]
     },
     "execution_count": 109,
     "output_type": "execute_result",
     "metadata": {}
    }
   ],
   "source": [
    "# 2.3 Примените TfidfVectorizer для преобразования текстов в векторы признаков. \n",
    "# Оставьте только те слова, которые встречаются хотя бы в 5 объектах\n",
    "from sklearn import feature_extraction\n",
    "v = feature_extraction.text.TfidfVectorizer(min_df=5)\n",
    "xv = v.fit_transform(xf)\n",
    "#vn = v.get_feature_names()\n",
    "print(type(xv[0]))\n",
    "locals()['xv']"
   ]
  },
  {
   "cell_type": "code",
   "execution_count": 110,
   "metadata": {},
   "outputs": [
    {
     "name": "stdout",
     "output_type": "stream",
     "text": [
      "15582 60000\n"
     ]
    }
   ],
   "source": [
    "# 2.4 Замените пропуски в столбцах LocationNormalized и ContractTime на специальную строку 'nan'.\n",
    "x[cl].fillna('nan', inplace=True)\n",
    "x[cc].fillna('nan', inplace=True)\n",
    "print(len(x[cc][x[cc] == 'nan']), len(x[cc]))"
   ]
  },
  {
   "cell_type": "code",
   "execution_count": 125,
   "metadata": {},
   "outputs": [
    {
     "name": "stdout",
     "output_type": "stream",
     "text": [
      "  (0, 2)\t1.0\n  (0, 957)\t1.0\n  (1, 2)\t1.0\n  (1, 957)\t1.0\n"
     ]
    }
   ],
   "source": [
    "# 2.5 Примените DictVectorizer для получения one-hot-кодирования признаков LocationNormalized и ContractTime.\n",
    "d = feature_extraction.DictVectorizer()\n",
    "xd = d.fit_transform(x[[cl, cc]].to_dict('records'))\n",
    "print(xd[:2])"
   ]
  },
  {
   "cell_type": "code",
   "execution_count": 113,
   "metadata": {},
   "outputs": [
    {
     "data": {
      "text/plain": [
       "<60000x24627 sparse matrix of type '<class 'numpy.float64'>'\n\twith 8485759 stored elements in COOrdinate format>"
      ]
     },
     "execution_count": 113,
     "output_type": "execute_result",
     "metadata": {}
    }
   ],
   "source": [
    "# 2.6 Объедините все полученные признаки в одну матрицу \"объекты-признаки\".\n",
    "#  Обратите внимание, что матрицы для текстов и категориальных признаков являются разреженными\n",
    "from scipy.sparse import hstack\n",
    "xm = hstack([xv, xd])\n",
    "locals()['xm']"
   ]
  },
  {
   "cell_type": "code",
   "execution_count": 121,
   "metadata": {},
   "outputs": [
    {
     "data": {
      "text/plain": [
       "Ridge(alpha=1.0, copy_X=True, fit_intercept=True, max_iter=None,\n   normalize=False, random_state=None, solver='auto', tol=0.001)"
      ]
     },
     "execution_count": 121,
     "output_type": "execute_result",
     "metadata": {}
    }
   ],
   "source": [
    "# 3 Обучите гребневую регрессию с параметром alpha=1. Целевая переменная записана в столбце SalaryNormalized.\n",
    "from sklearn.linear_model import Ridge\n",
    "clf = Ridge(alpha=1.0)\n",
    "clf.fit(xm, x[cs])"
   ]
  },
  {
   "cell_type": "code",
   "execution_count": 127,
   "metadata": {},
   "outputs": [
    {
     "name": "stdout",
     "output_type": "stream",
     "text": [
      "[ 56567.96211044  37206.75914403]\n"
     ]
    }
   ],
   "source": [
    "# 4. Постройте прогнозы для двух примеров из файла salary-test-mini.csv.\n",
    "#  Значения полученных прогнозов являются ответом на задание. Укажите их через пробел.\n",
    "t = read_csv('c0/w4/salary-test-mini.csv')\n",
    "tf = t[cf].str.lower().replace('[^a-zA-Z0-9]', ' ', regex=True)\n",
    "tv = v.transform(tf)\n",
    "td = d.transform(t[[cl, cc]].to_dict('records'))\n",
    "p = clf.predict(hstack([tv, td]))\n",
    "print(p)"
   ]
  },
  {
   "cell_type": "code",
   "execution_count": 131,
   "metadata": {},
   "outputs": [
    {
     "name": "stdout",
     "output_type": "stream",
     "text": [
      "10=\"56567.96 37206.76\"\n\n"
     ]
    }
   ],
   "source": [
    "from lib import *\n",
    "pf('10', pp(p.round(2)))"
   ]
  },
  {
   "cell_type": "code",
   "execution_count": null,
   "metadata": {},
   "outputs": [],
   "source": [
    ""
   ]
  }
 ],
 "metadata": {
  "kernelspec": {
   "display_name": "Python 3",
   "language": "python",
   "name": "python3"
  },
  "language_info": {
   "codemirror_mode": {
    "name": "ipython",
    "version": 3.0
   },
   "file_extension": ".py",
   "mimetype": "text/x-python",
   "name": "python",
   "nbconvert_exporter": "python",
   "pygments_lexer": "ipython3",
   "version": "3.5.1"
  }
 },
 "nbformat": 4,
 "nbformat_minor": 0
}