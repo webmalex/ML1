{
 "cells": [
  {
   "cell_type": "code",
   "execution_count": 15,
   "metadata": {},
   "outputs": [
    {
     "name": "stdout",
     "output_type": "stream",
     "text": [
      "         date        AXP          BA        CAT       CSCO         CVX  \\\n0  2013-09-23  76.440002  117.510002  85.029999  24.270000  125.519997   \n1  2013-09-24  76.070000  119.000000  85.110001  24.139999  124.489998   \n\n          DD    DIS         GE          GS    ...            PFE         PG  \\\n0  59.409999  64.75  24.280001  165.250000    ...      28.799999  79.279999   \n1  59.319997  64.32  24.320000  162.970001    ...      28.709999  78.620003   \n\n           T        TRV    UNH         UTX           V     VZ        WMT  \\\n0  34.220001  86.379997  71.82  109.419998  196.240005  47.98  76.419998   \n1  34.090000  85.870003  72.32  110.000000  193.339996  47.27  75.750000   \n\n         XOM  \n0  87.750000  \n1  87.360001  \n\n[2 rows x 31 columns]\n"
     ]
    }
   ],
   "source": [
    "# 1 Загрузите данные close_prices.csv. В этом файле приведены цены акций 30 компаний \n",
    "#  на закрытии торгов за каждый день периода.\n",
    "from pandas import read_csv\n",
    "x = read_csv('c0/w4/close_prices.csv')\n",
    "print(x.head(2))"
   ]
  },
  {
   "cell_type": "code",
   "execution_count": 17,
   "metadata": {},
   "outputs": [],
   "source": [
    "xd = x.drop(['date'], axis=1)"
   ]
  },
  {
   "cell_type": "code",
   "execution_count": 32,
   "metadata": {},
   "outputs": [
    {
     "data": {
      "text/plain": [
       "PCA(copy=True, n_components=0.9, whiten=False)"
      ]
     },
     "execution_count": 32,
     "output_type": "execute_result",
     "metadata": {}
    }
   ],
   "source": [
    "# 2 На загруженных данных обучите преобразование PCA с числом компоненты равным 10.\n",
    "#  Скольких компонент хватит, чтобы объяснить 90% дисперсии?\n",
    "from sklearn.decomposition import PCA\n",
    "pca = PCA(n_components=0.9)\n",
    "pca.fit(xd)"
   ]
  },
  {
   "cell_type": "code",
   "execution_count": 30,
   "metadata": {},
   "outputs": [],
   "source": [
    "#print(pca.explained_variance_ratio_)\n",
    "print(pca.n_components_)"
   ]
  },
  {
   "cell_type": "code",
   "execution_count": null,
   "metadata": {},
   "outputs": [],
   "source": [
    ""
   ]
  }
 ],
 "metadata": {},
 "nbformat": 4,
 "nbformat_minor": 0
}